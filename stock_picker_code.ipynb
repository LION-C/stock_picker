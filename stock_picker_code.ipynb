{
  "nbformat": 4,
  "nbformat_minor": 0,
  "metadata": {
    "colab": {
      "provenance": [],
      "authorship_tag": "ABX9TyOFBcQyW1+u7ZDXGIsnJWYW",
      "include_colab_link": true
    },
    "kernelspec": {
      "name": "python3",
      "display_name": "Python 3"
    },
    "language_info": {
      "name": "python"
    }
  },
  "cells": [
    {
      "cell_type": "markdown",
      "metadata": {
        "id": "view-in-github",
        "colab_type": "text"
      },
      "source": [
        "<a href=\"https://colab.research.google.com/github/LION-C/stock_picker/blob/main/stock_picker_code.ipynb\" target=\"_parent\"><img src=\"https://colab.research.google.com/assets/colab-badge.svg\" alt=\"Open In Colab\"/></a>"
      ]
    },
    {
      "cell_type": "code",
      "source": [
        "!pip install selenium\n",
        "!apt-get update\n",
        "!apt-get install -y chromium-chromedriver"
      ],
      "metadata": {
        "colab": {
          "base_uri": "https://localhost:8080/"
        },
        "collapsed": true,
        "id": "2_pvBNJg5O2z",
        "outputId": "1fb4760e-5e72-46a7-e4a0-5dd59068bd00"
      },
      "execution_count": null,
      "outputs": [
        {
          "output_type": "stream",
          "name": "stdout",
          "text": [
            "Collecting selenium\n",
            "  Downloading selenium-4.28.1-py3-none-any.whl.metadata (7.1 kB)\n",
            "Requirement already satisfied: urllib3<3,>=1.26 in /usr/local/lib/python3.11/dist-packages (from urllib3[socks]<3,>=1.26->selenium) (2.3.0)\n",
            "Collecting trio~=0.17 (from selenium)\n",
            "  Downloading trio-0.28.0-py3-none-any.whl.metadata (8.5 kB)\n",
            "Collecting trio-websocket~=0.9 (from selenium)\n",
            "  Downloading trio_websocket-0.11.1-py3-none-any.whl.metadata (4.7 kB)\n",
            "Requirement already satisfied: certifi>=2021.10.8 in /usr/local/lib/python3.11/dist-packages (from selenium) (2025.1.31)\n",
            "Requirement already satisfied: typing_extensions~=4.9 in /usr/local/lib/python3.11/dist-packages (from selenium) (4.12.2)\n",
            "Requirement already satisfied: websocket-client~=1.8 in /usr/local/lib/python3.11/dist-packages (from selenium) (1.8.0)\n",
            "Requirement already satisfied: attrs>=23.2.0 in /usr/local/lib/python3.11/dist-packages (from trio~=0.17->selenium) (25.1.0)\n",
            "Collecting sortedcontainers (from trio~=0.17->selenium)\n",
            "  Downloading sortedcontainers-2.4.0-py2.py3-none-any.whl.metadata (10 kB)\n",
            "Requirement already satisfied: idna in /usr/local/lib/python3.11/dist-packages (from trio~=0.17->selenium) (3.10)\n",
            "Collecting outcome (from trio~=0.17->selenium)\n",
            "  Downloading outcome-1.3.0.post0-py2.py3-none-any.whl.metadata (2.6 kB)\n",
            "Requirement already satisfied: sniffio>=1.3.0 in /usr/local/lib/python3.11/dist-packages (from trio~=0.17->selenium) (1.3.1)\n",
            "Collecting wsproto>=0.14 (from trio-websocket~=0.9->selenium)\n",
            "  Downloading wsproto-1.2.0-py3-none-any.whl.metadata (5.6 kB)\n",
            "Requirement already satisfied: pysocks!=1.5.7,<2.0,>=1.5.6 in /usr/local/lib/python3.11/dist-packages (from urllib3[socks]<3,>=1.26->selenium) (1.7.1)\n",
            "Requirement already satisfied: h11<1,>=0.9.0 in /usr/local/lib/python3.11/dist-packages (from wsproto>=0.14->trio-websocket~=0.9->selenium) (0.14.0)\n",
            "Downloading selenium-4.28.1-py3-none-any.whl (9.5 MB)\n",
            "\u001b[2K   \u001b[90m━━━━━━━━━━━━━━━━━━━━━━━━━━━━━━━━━━━━━━━━\u001b[0m \u001b[32m9.5/9.5 MB\u001b[0m \u001b[31m41.6 MB/s\u001b[0m eta \u001b[36m0:00:00\u001b[0m\n",
            "\u001b[?25hDownloading trio-0.28.0-py3-none-any.whl (486 kB)\n",
            "\u001b[2K   \u001b[90m━━━━━━━━━━━━━━━━━━━━━━━━━━━━━━━━━━━━━━━━\u001b[0m \u001b[32m486.3/486.3 kB\u001b[0m \u001b[31m25.4 MB/s\u001b[0m eta \u001b[36m0:00:00\u001b[0m\n",
            "\u001b[?25hDownloading trio_websocket-0.11.1-py3-none-any.whl (17 kB)\n",
            "Downloading wsproto-1.2.0-py3-none-any.whl (24 kB)\n",
            "Downloading outcome-1.3.0.post0-py2.py3-none-any.whl (10 kB)\n",
            "Downloading sortedcontainers-2.4.0-py2.py3-none-any.whl (29 kB)\n",
            "Installing collected packages: sortedcontainers, wsproto, outcome, trio, trio-websocket, selenium\n",
            "Successfully installed outcome-1.3.0.post0 selenium-4.28.1 sortedcontainers-2.4.0 trio-0.28.0 trio-websocket-0.11.1 wsproto-1.2.0\n",
            "Get:1 https://cloud.r-project.org/bin/linux/ubuntu jammy-cran40/ InRelease [3,632 B]\n",
            "Get:2 https://developer.download.nvidia.com/compute/cuda/repos/ubuntu2204/x86_64  InRelease [1,581 B]\n",
            "Get:3 https://developer.download.nvidia.com/compute/cuda/repos/ubuntu2204/x86_64  Packages [1,313 kB]\n",
            "Get:4 http://security.ubuntu.com/ubuntu jammy-security InRelease [129 kB]\n",
            "Hit:5 http://archive.ubuntu.com/ubuntu jammy InRelease\n",
            "Get:6 http://archive.ubuntu.com/ubuntu jammy-updates InRelease [128 kB]\n",
            "Get:7 https://r2u.stat.illinois.edu/ubuntu jammy InRelease [6,555 B]\n",
            "Hit:8 https://ppa.launchpadcontent.net/deadsnakes/ppa/ubuntu jammy InRelease\n",
            "Hit:9 https://ppa.launchpadcontent.net/graphics-drivers/ppa/ubuntu jammy InRelease\n",
            "Get:10 https://r2u.stat.illinois.edu/ubuntu jammy/main all Packages [8,676 kB]\n",
            "Hit:11 https://ppa.launchpadcontent.net/ubuntugis/ppa/ubuntu jammy InRelease\n",
            "Get:12 http://security.ubuntu.com/ubuntu jammy-security/restricted amd64 Packages [3,612 kB]\n",
            "Get:13 http://archive.ubuntu.com/ubuntu jammy-backports InRelease [127 kB]\n",
            "Get:14 http://archive.ubuntu.com/ubuntu jammy-updates/universe amd64 Packages [1,526 kB]\n",
            "Get:15 http://security.ubuntu.com/ubuntu jammy-security/main amd64 Packages [2,609 kB]\n",
            "Get:16 http://archive.ubuntu.com/ubuntu jammy-updates/main amd64 Packages [2,911 kB]\n",
            "Get:17 https://r2u.stat.illinois.edu/ubuntu jammy/main amd64 Packages [2,657 kB]\n",
            "Fetched 23.7 MB in 4s (5,514 kB/s)\n",
            "Reading package lists... Done\n",
            "W: Skipping acquire of configured file 'main/source/Sources' as repository 'https://r2u.stat.illinois.edu/ubuntu jammy InRelease' does not seem to provide it (sources.list entry misspelt?)\n",
            "Reading package lists... Done\n",
            "Building dependency tree... Done\n",
            "Reading state information... Done\n",
            "The following additional packages will be installed:\n",
            "  apparmor chromium-browser libfuse3-3 liblzo2-2 snapd squashfs-tools systemd-hwe-hwdb udev\n",
            "Suggested packages:\n",
            "  apparmor-profiles-extra apparmor-utils fuse3 zenity | kdialog\n",
            "The following NEW packages will be installed:\n",
            "  apparmor chromium-browser chromium-chromedriver libfuse3-3 liblzo2-2 snapd squashfs-tools\n",
            "  systemd-hwe-hwdb udev\n",
            "0 upgraded, 9 newly installed, 0 to remove and 22 not upgraded.\n",
            "Need to get 30.1 MB of archives.\n",
            "After this operation, 123 MB of additional disk space will be used.\n",
            "Get:1 http://archive.ubuntu.com/ubuntu jammy-updates/main amd64 apparmor amd64 3.0.4-2ubuntu2.4 [598 kB]\n",
            "Get:2 http://archive.ubuntu.com/ubuntu jammy/main amd64 liblzo2-2 amd64 2.10-2build3 [53.7 kB]\n",
            "Get:3 http://archive.ubuntu.com/ubuntu jammy/main amd64 squashfs-tools amd64 1:4.5-3build1 [159 kB]\n",
            "Get:4 http://archive.ubuntu.com/ubuntu jammy-updates/main amd64 udev amd64 249.11-0ubuntu3.12 [1,557 kB]\n",
            "Get:5 http://archive.ubuntu.com/ubuntu jammy/main amd64 libfuse3-3 amd64 3.10.5-1build1 [81.2 kB]\n",
            "Get:6 http://archive.ubuntu.com/ubuntu jammy-updates/main amd64 snapd amd64 2.66.1+22.04 [27.6 MB]\n",
            "Get:7 http://archive.ubuntu.com/ubuntu jammy-updates/universe amd64 chromium-browser amd64 1:85.0.4183.83-0ubuntu2.22.04.1 [49.2 kB]\n",
            "Get:8 http://archive.ubuntu.com/ubuntu jammy-updates/universe amd64 chromium-chromedriver amd64 1:85.0.4183.83-0ubuntu2.22.04.1 [2,308 B]\n",
            "Get:9 http://archive.ubuntu.com/ubuntu jammy-updates/main amd64 systemd-hwe-hwdb all 249.11.5 [3,228 B]\n",
            "Fetched 30.1 MB in 4s (8,088 kB/s)\n",
            "Preconfiguring packages ...\n",
            "Selecting previously unselected package apparmor.\n",
            "(Reading database ... 124926 files and directories currently installed.)\n",
            "Preparing to unpack .../0-apparmor_3.0.4-2ubuntu2.4_amd64.deb ...\n",
            "Unpacking apparmor (3.0.4-2ubuntu2.4) ...\n",
            "Selecting previously unselected package liblzo2-2:amd64.\n",
            "Preparing to unpack .../1-liblzo2-2_2.10-2build3_amd64.deb ...\n",
            "Unpacking liblzo2-2:amd64 (2.10-2build3) ...\n",
            "Selecting previously unselected package squashfs-tools.\n",
            "Preparing to unpack .../2-squashfs-tools_1%3a4.5-3build1_amd64.deb ...\n",
            "Unpacking squashfs-tools (1:4.5-3build1) ...\n",
            "Selecting previously unselected package udev.\n",
            "Preparing to unpack .../3-udev_249.11-0ubuntu3.12_amd64.deb ...\n",
            "Unpacking udev (249.11-0ubuntu3.12) ...\n",
            "Selecting previously unselected package libfuse3-3:amd64.\n",
            "Preparing to unpack .../4-libfuse3-3_3.10.5-1build1_amd64.deb ...\n",
            "Unpacking libfuse3-3:amd64 (3.10.5-1build1) ...\n",
            "Selecting previously unselected package snapd.\n",
            "Preparing to unpack .../5-snapd_2.66.1+22.04_amd64.deb ...\n",
            "Unpacking snapd (2.66.1+22.04) ...\n",
            "Setting up apparmor (3.0.4-2ubuntu2.4) ...\n",
            "Created symlink /etc/systemd/system/sysinit.target.wants/apparmor.service → /lib/systemd/system/apparmor.service.\n",
            "Setting up liblzo2-2:amd64 (2.10-2build3) ...\n",
            "Setting up squashfs-tools (1:4.5-3build1) ...\n",
            "Setting up udev (249.11-0ubuntu3.12) ...\n",
            "invoke-rc.d: could not determine current runlevel\n",
            "invoke-rc.d: policy-rc.d denied execution of start.\n",
            "Setting up libfuse3-3:amd64 (3.10.5-1build1) ...\n",
            "Setting up snapd (2.66.1+22.04) ...\n",
            "Created symlink /etc/systemd/system/multi-user.target.wants/snapd.apparmor.service → /lib/systemd/system/snapd.apparmor.service.\n",
            "Created symlink /etc/systemd/system/multi-user.target.wants/snapd.autoimport.service → /lib/systemd/system/snapd.autoimport.service.\n",
            "Created symlink /etc/systemd/system/multi-user.target.wants/snapd.core-fixup.service → /lib/systemd/system/snapd.core-fixup.service.\n",
            "Created symlink /etc/systemd/system/multi-user.target.wants/snapd.recovery-chooser-trigger.service → /lib/systemd/system/snapd.recovery-chooser-trigger.service.\n",
            "Created symlink /etc/systemd/system/multi-user.target.wants/snapd.seeded.service → /lib/systemd/system/snapd.seeded.service.\n",
            "Created symlink /etc/systemd/system/cloud-final.service.wants/snapd.seeded.service → /lib/systemd/system/snapd.seeded.service.\n",
            "Unit /lib/systemd/system/snapd.seeded.service is added as a dependency to a non-existent unit cloud-final.service.\n",
            "Created symlink /etc/systemd/system/multi-user.target.wants/snapd.service → /lib/systemd/system/snapd.service.\n",
            "Created symlink /etc/systemd/system/timers.target.wants/snapd.snap-repair.timer → /lib/systemd/system/snapd.snap-repair.timer.\n",
            "Created symlink /etc/systemd/system/sockets.target.wants/snapd.socket → /lib/systemd/system/snapd.socket.\n",
            "Created symlink /etc/systemd/system/final.target.wants/snapd.system-shutdown.service → /lib/systemd/system/snapd.system-shutdown.service.\n",
            "Selecting previously unselected package chromium-browser.\n",
            "(Reading database ... 125363 files and directories currently installed.)\n",
            "Preparing to unpack .../chromium-browser_1%3a85.0.4183.83-0ubuntu2.22.04.1_amd64.deb ...\n",
            "=> Installing the chromium snap\n",
            "==> Checking connectivity with the snap store\n",
            "===> System doesn't have a working snapd, skipping\n",
            "Unpacking chromium-browser (1:85.0.4183.83-0ubuntu2.22.04.1) ...\n",
            "Selecting previously unselected package chromium-chromedriver.\n",
            "Preparing to unpack .../chromium-chromedriver_1%3a85.0.4183.83-0ubuntu2.22.04.1_amd64.deb ...\n",
            "Unpacking chromium-chromedriver (1:85.0.4183.83-0ubuntu2.22.04.1) ...\n",
            "Selecting previously unselected package systemd-hwe-hwdb.\n",
            "Preparing to unpack .../systemd-hwe-hwdb_249.11.5_all.deb ...\n",
            "Unpacking systemd-hwe-hwdb (249.11.5) ...\n",
            "Setting up systemd-hwe-hwdb (249.11.5) ...\n",
            "Setting up chromium-browser (1:85.0.4183.83-0ubuntu2.22.04.1) ...\n",
            "update-alternatives: using /usr/bin/chromium-browser to provide /usr/bin/x-www-browser (x-www-browser) in auto mode\n",
            "update-alternatives: using /usr/bin/chromium-browser to provide /usr/bin/gnome-www-browser (gnome-www-browser) in auto mode\n",
            "Setting up chromium-chromedriver (1:85.0.4183.83-0ubuntu2.22.04.1) ...\n",
            "Processing triggers for udev (249.11-0ubuntu3.12) ...\n",
            "Processing triggers for mailcap (3.70+nmu1ubuntu1) ...\n",
            "Processing triggers for hicolor-icon-theme (0.17-2) ...\n",
            "Processing triggers for libc-bin (2.35-0ubuntu3.8) ...\n",
            "/sbin/ldconfig.real: /usr/local/lib/libtcm_debug.so.1 is not a symbolic link\n",
            "\n",
            "/sbin/ldconfig.real: /usr/local/lib/libhwloc.so.15 is not a symbolic link\n",
            "\n",
            "/sbin/ldconfig.real: /usr/local/lib/libtbbbind.so.3 is not a symbolic link\n",
            "\n",
            "/sbin/ldconfig.real: /usr/local/lib/libur_loader.so.0 is not a symbolic link\n",
            "\n",
            "/sbin/ldconfig.real: /usr/local/lib/libur_adapter_level_zero.so.0 is not a symbolic link\n",
            "\n",
            "/sbin/ldconfig.real: /usr/local/lib/libtbbmalloc.so.2 is not a symbolic link\n",
            "\n",
            "/sbin/ldconfig.real: /usr/local/lib/libumf.so.0 is not a symbolic link\n",
            "\n",
            "/sbin/ldconfig.real: /usr/local/lib/libur_adapter_opencl.so.0 is not a symbolic link\n",
            "\n",
            "/sbin/ldconfig.real: /usr/local/lib/libtcm.so.1 is not a symbolic link\n",
            "\n",
            "/sbin/ldconfig.real: /usr/local/lib/libtbb.so.12 is not a symbolic link\n",
            "\n",
            "/sbin/ldconfig.real: /usr/local/lib/libtbbbind_2_5.so.3 is not a symbolic link\n",
            "\n",
            "/sbin/ldconfig.real: /usr/local/lib/libtbbbind_2_0.so.3 is not a symbolic link\n",
            "\n",
            "/sbin/ldconfig.real: /usr/local/lib/libtbbmalloc_proxy.so.2 is not a symbolic link\n",
            "\n",
            "Processing triggers for man-db (2.10.2-1) ...\n",
            "Processing triggers for dbus (1.12.20-2ubuntu4.1) ...\n"
          ]
        }
      ]
    },
    {
      "cell_type": "code",
      "source": [],
      "metadata": {
        "id": "Ao6G_1yX76yk"
      },
      "execution_count": null,
      "outputs": []
    },
    {
      "cell_type": "code",
      "source": [
        "from bs4 import BeautifulSoup\n",
        "import time;\n",
        "from selenium import webdriver\n",
        "from selenium.webdriver.chrome.options import Options"
      ],
      "metadata": {
        "id": "S0cQ2-Wq761B"
      },
      "execution_count": null,
      "outputs": []
    },
    {
      "cell_type": "code",
      "source": [],
      "metadata": {
        "id": "lvNUSGbgf6rj"
      },
      "execution_count": null,
      "outputs": []
    },
    {
      "cell_type": "code",
      "source": [],
      "metadata": {
        "id": "Px_SJ05Ff6ug"
      },
      "execution_count": null,
      "outputs": []
    },
    {
      "cell_type": "code",
      "source": [],
      "metadata": {
        "id": "krJpozbwf6w5"
      },
      "execution_count": null,
      "outputs": []
    },
    {
      "cell_type": "code",
      "source": [
        "#24x7 ai新闻热点分析软件"
      ],
      "metadata": {
        "id": "AQABvrSVf1fx"
      },
      "execution_count": null,
      "outputs": []
    },
    {
      "cell_type": "code",
      "source": [
        "from selenium import webdriver\n",
        "from selenium.webdriver.chrome.options import Options\n",
        "from selenium.webdriver.common.by import By\n",
        "import os\n",
        "from openai import OpenAI\n",
        "\n",
        "#initialize and check selenium\n",
        "options = Options()\n",
        "options.add_argument('--headless')\n",
        "options.add_argument('--no-sandbox')\n",
        "options.add_argument('--disable-dev-shm-usage')\n",
        "\n",
        "driver = webdriver.Chrome(options=options)\n",
        "driver.get(\"https://kuaixun.eastmoney.com/\")\n",
        "\n",
        "print(driver.title)\n",
        "driver.quit()\n",
        "\n",
        "\n",
        "#initialize qwen LLM\n",
        "client = OpenAI(\n",
        "    # 若没有配置环境变量，请用百炼API Key将下行替换为：api_key=\"sk-xxx\",\n",
        "    api_key=\"sk-125ca860de714f18be88acecba9f455f\",\n",
        "    base_url=\"https://dashscope.aliyuncs.com/compatible-mode/v1\",  # 填写DashScope服务的base_url\n",
        ")\n",
        "\n",
        "\n",
        "#main program\n",
        "current_news = \"\"\n",
        "\n",
        "while True:\n",
        "  driver = webdriver.Chrome(options=options)\n",
        "  driver.get(\"https://kuaixun.eastmoney.com/\")\n",
        "  elements = driver.find_elements(By.CLASS_NAME, \"news_detail_txt\")\n",
        "\n",
        "  if elements[0].text == current_news:\n",
        "    time.sleep(10)\n",
        "    driver.quit()\n",
        "\n",
        "  else:\n",
        "    current_news = elements[0].text\n",
        "    print(\"new information/news\", current_news)\n",
        "    print()\n",
        "\n",
        "    completion = client.chat.completions.create(\n",
        "    model=\"qwen-max-latest\", # 此处以qwen-plus为例，可按需更换模型名称。模型列表：https://help.aliyun.com/zh/model-studio/getting-started/models\n",
        "    messages=[\n",
        "        {'role': 'system', 'content': 'You are a helpful assistant.'},\n",
        "        {'role': 'user', 'content': '1) 请判断这条新闻对中国股票市场或者具体的某些中国上市公司有相关性例如利好或者利空关系并回答\"是/否\"；若答案是\"否\"不用回答问题2。2) 判断这条新闻是否为刚刚出来的新消息还是之前已经有类似的报道了，若是老消息不用回答此问题，只用回答\"此消息不是最新新闻\"。若是新消息请搜索因为这条新闻里提到的事件在未来业绩会受益的中国上市公司；公司需要与新闻里的事件内容相关性超过80%；请预估新闻对公司业绩的百分比增长率，若有公司业绩百分比增长率>10%就回答这些公司，如果没有就回答\"没有\"；若是新消息请回答这些你寻找到的中国上市公司的名字，股票代码，以及新闻预估对公司业绩百分比增长率。请按照这个格式回答：问题1\\n\\n是  \\n\\n问题2：  \\n\\n根据新闻内容“比亚迪天神之眼发布会”，这可能与比亚迪（BYD）的智能化技术、自动驾驶或智能座舱相关的产品发布有关。以下是相关分析和预估：  \\n\\n### 1. **比亚迪 (股票代码：002594)**  \\n- **相关性**：比亚迪作为发布会的主体，直接与新闻事件相关性达到100%。  \\n- **预估对公司业绩的增长率**：  \\n  假设“天神之眼”涉及比亚迪在智能驾驶或智能座舱领域的重大技术突破，预计会增强其在新能源汽车市场的竞争力，并吸引更多消费者。结合行业趋势和比亚迪当前的市场地位，预计此事件将对比亚迪未来一年的业绩带来约**12%的增长贡献**。  \\n\\n### 2. **德赛西威 (股票代码：002920)**  \\n- **相关性**：德赛西威是比亚迪的重要供应商之一，专注于智能座舱和自动驾驶解决方案。如果“天神之眼”涉及相关技术，德赛西威可能会直接受益于订单增长。相关性约为85%-90%。  \\n- **预估对公司业绩的增长率**：  \\n  预计该事件将推动德赛西威未来一年的业绩增长约**10%**，具体取决于其与比亚迪的合作深度和技术应用范围。  \\n\\n### 3. **中科创达 (股票代码：300496)**  \\n- **相关性**：中科创达为多家车企提供智能驾驶和智能座舱软件解决方案。若“天神之眼”涉及软件层面的技术升级，中科创达可能成为潜在受益者。相关性约为80%-85%。  \\n- **预估对公司业绩的增长率**：  \\n  预计该事件将对其未来一年的业绩带来约*10%的增长贡献**，具体取决于其在比亚迪供应链中的参与程度。  \\n\\n### 总结：  \\n- **比亚迪 (002594)**：预计业绩增长率12%。  \\n- **德赛西威 (002920)**：预计业绩增长率10%。  \\n- **中科创达 (300496)**：预计业绩增长率10%。新闻：'+current_news}],\n",
        "    extra_body={\n",
        "        \"enable_search\": True\n",
        "    }\n",
        "    )\n",
        "\n",
        "    #处理并清洗答案\n",
        "    answer_pre = completion.model_dump()\n",
        "    answer = answer_pre['choices'][0]['message']['content']\n",
        "    print(answer)\n",
        "    print()\n",
        "\n",
        "    time.sleep(10)\n",
        "    driver.quit()\n",
        "\n"
      ],
      "metadata": {
        "id": "vpdahm8Mfzum"
      },
      "execution_count": null,
      "outputs": []
    },
    {
      "cell_type": "code",
      "source": [],
      "metadata": {
        "id": "Qq0m6rYRfzzY"
      },
      "execution_count": null,
      "outputs": []
    },
    {
      "cell_type": "code",
      "source": [],
      "metadata": {
        "id": "uVaXfyrLfz11"
      },
      "execution_count": null,
      "outputs": []
    },
    {
      "cell_type": "code",
      "source": [],
      "metadata": {
        "id": "L03AHqi6fz4U"
      },
      "execution_count": null,
      "outputs": []
    },
    {
      "cell_type": "code",
      "source": [],
      "metadata": {
        "id": "0l4uPtJufz6l"
      },
      "execution_count": null,
      "outputs": []
    },
    {
      "cell_type": "code",
      "source": [],
      "metadata": {
        "id": "CBVM_D4Tfz8y"
      },
      "execution_count": null,
      "outputs": []
    },
    {
      "cell_type": "code",
      "source": [],
      "metadata": {
        "id": "kmWGmc4B78sW"
      },
      "execution_count": null,
      "outputs": []
    },
    {
      "cell_type": "code",
      "source": [
        "from selenium import webdriver\n",
        "from selenium.webdriver.chrome.options import Options\n",
        "from selenium.webdriver.common.by import By\n",
        "\n",
        "options = Options()\n",
        "options.add_argument('--headless')\n",
        "options.add_argument('--no-sandbox')\n",
        "options.add_argument('--disable-dev-shm-usage')\n",
        "\n",
        "driver = webdriver.Chrome(options=options)\n",
        "driver.get(\"https://kuaixun.eastmoney.com/\")\n",
        "\n",
        "\n",
        "# --- Your scraping logic here ---\n",
        "# For example, to extract the page title:\n",
        "print(driver.title)\n",
        "\n",
        "\n",
        "\n",
        "driver.quit()\n",
        "\n",
        "\n",
        "current_news = \"\"\n",
        "\n",
        "while True:\n",
        "  driver = webdriver.Chrome(options=options)\n",
        "  driver.get(\"https://kuaixun.eastmoney.com/\")\n",
        "  elements = driver.find_elements(By.CLASS_NAME, \"news_detail_txt\")\n",
        "\n",
        "  if elements[0].text == current_news:\n",
        "    print(\"none\")\n",
        "    time.sleep(10)\n",
        "    driver.quit()\n",
        "\n",
        "\n",
        "\n",
        "  else:\n",
        "    current_news = elements[0].text\n",
        "    print(current_news)\n",
        "    print()\n",
        "    time.sleep(10)\n",
        "    driver.quit()\n",
        "\n",
        "\n"
      ],
      "metadata": {
        "colab": {
          "base_uri": "https://localhost:8080/"
        },
        "collapsed": true,
        "id": "B9XEwLVj6YKN",
        "outputId": "541919b1-2896-4641-f677-57de7f1d2d39"
      },
      "execution_count": null,
      "outputs": [
        {
          "output_type": "stream",
          "name": "stdout",
          "text": [
            "全球财经快讯_东方财富网\n",
            "【促市场流通 日本将于下月首次投放21万吨储备米】记者获悉，当地时间14日，日本农林水产大臣江藤拓宣布向市场投放21万吨储备米，预计于下月中旬左右开始交付。这是日本政府首次以促进市场流通为目的的储备米投放。[点击查看全文]\n",
            "none\n",
            "none\n",
            "none\n",
            "none\n",
            "none\n",
            "none\n",
            "none\n",
            "none\n",
            "none\n",
            "none\n",
            "none\n",
            "none\n",
            "none\n",
            "none\n",
            "【两市融资余额减少8.68亿元】截至2月13日，上交所融资余额报9405.86亿元，较前一交易日减少5.57亿元；深交所融资余额报8968.7亿元，较前一交易日减少3.11亿元；两市合计18374.56亿元，较前一交易日减少8.68亿元。[点击查看全文]\n",
            "none\n",
            "none\n",
            "none\n",
            "none\n",
            "日本内阁官房长官林芳正称，将在评估美国对等关税计划对日本的影响后作出适当回应。[点击查看全文]\n",
            "none\n"
          ]
        }
      ]
    },
    {
      "cell_type": "code",
      "source": [],
      "metadata": {
        "id": "vWRcpCdQ9i3G"
      },
      "execution_count": null,
      "outputs": []
    },
    {
      "cell_type": "code",
      "source": [
        "import os\n",
        "from openai import OpenAI\n",
        "\n",
        "client = OpenAI(\n",
        "    # 若没有配置环境变量，请用百炼API Key将下行替换为：api_key=\"sk-xxx\",\n",
        "    api_key=\"sk-125ca860de714f18be88acecba9f455f\",\n",
        "    base_url=\"https://dashscope.aliyuncs.com/compatible-mode/v1\",  # 填写DashScope服务的base_url\n",
        ")\n",
        "completion = client.chat.completions.create(\n",
        "    model=\"qwen-max-latest\", # 此处以qwen-plus为例，可按需更换模型名称。模型列表：https://help.aliyun.com/zh/model-studio/getting-started/models\n",
        "    messages=[\n",
        "        {'role': 'system', 'content': 'You are a helpful assistant.'},\n",
        "        {'role': 'user', 'content': '1) 请判断这条新闻对中国股票市场或者具体的某些中国上市公司有相关性例如利好或者利空关系并回答\"是/否\"；若答案是\"否\"不用回答问题2。2) 请搜索因为这条新闻里提到的事件在未来业绩会受益的中国上市公司；公司需要与新闻里的事件内容相关性超过80%；请预估新闻对公司业绩的百分比增长率，若有公司业绩百分比增长率>10%就回答这些公司，如果没有就回答\"没有\"；请回答这些你寻找到的中国上市公司的名字，股票代码，以及新闻预估对公司业绩百分比增长率。请按照这个格式回答：问题1\\n\\n是  \\n\\n问题2：  \\n\\n根据新闻内容“比亚迪天神之眼发布会”，这可能与比亚迪（BYD）的智能化技术、自动驾驶或智能座舱相关的产品发布有关。以下是相关分析和预估：  \\n\\n### 1. **比亚迪 (股票代码：002594)**  \\n- **相关性**：比亚迪作为发布会的主体，直接与新闻事件相关性达到100%。  \\n- **预估对公司业绩的增长率**：  \\n  假设“天神之眼”涉及比亚迪在智能驾驶或智能座舱领域的重大技术突破，预计会增强其在新能源汽车市场的竞争力，并吸引更多消费者。结合行业趋势和比亚迪当前的市场地位，预计此事件将对比亚迪未来一年的业绩带来约**12%的增长贡献**。  \\n\\n### 2. **德赛西威 (股票代码：002920)**  \\n- **相关性**：德赛西威是比亚迪的重要供应商之一，专注于智能座舱和自动驾驶解决方案。如果“天神之眼”涉及相关技术，德赛西威可能会直接受益于订单增长。相关性约为85%-90%。  \\n- **预估对公司业绩的增长率**：  \\n  预计该事件将推动德赛西威未来一年的业绩增长约**10%**，具体取决于其与比亚迪的合作深度和技术应用范围。  \\n\\n### 3. **中科创达 (股票代码：300496)**  \\n- **相关性**：中科创达为多家车企提供智能驾驶和智能座舱软件解决方案。若“天神之眼”涉及软件层面的技术升级，中科创达可能成为潜在受益者。相关性约为80%-85%。  \\n- **预估对公司业绩的增长率**：  \\n  预计该事件将对其未来一年的业绩带来约*10%的增长贡献**，具体取决于其在比亚迪供应链中的参与程度。  \\n\\n### 总结：  \\n- **比亚迪 (002594)**：预计业绩增长率12%。  \\n- **德赛西威 (002920)**：预计业绩增长率10%。  \\n- **中科创达 (300496)**：预计业绩增长率10%。新闻：【哪吒2进全球票房前16】2月14日，据网络平台数据，影片《哪吒之魔童闹海》票房（含预售）突破101.88亿，超《复仇者联盟2：奥创纪元》票房成绩，进入全球影史票房榜前16。[点击查看全文]'}],\n",
        "    extra_body={\n",
        "        \"enable_search\": True\n",
        "    }\n",
        "    )\n",
        "\n",
        "#处理并清洗答案\n",
        "answer_pre = completion.model_dump()\n",
        "answer = answer_pre['choices'][0]['message']['content']\n",
        "print(answer)\n"
      ],
      "metadata": {
        "colab": {
          "base_uri": "https://localhost:8080/"
        },
        "collapsed": true,
        "id": "G8vT-7Xp9i5u",
        "outputId": "8adcaf6d-7143-4542-a763-40a417375feb"
      },
      "execution_count": null,
      "outputs": [
        {
          "output_type": "stream",
          "name": "stdout",
          "text": [
            "是  \n",
            "\n",
            "问题2：  \n",
            "\n",
            "根据新闻内容“《哪吒之魔童闹海》票房突破101.88亿并进入全球影史票房榜前16”，这可能与影片的制作方、发行方以及相关产业链公司（如院线、周边产品开发商等）的业绩直接相关。以下是相关分析和预估：  \n",
            "\n",
            "### 1. **光线传媒 (股票代码：300251)**  \n",
            "- **相关性**：光线传媒是《哪吒之魔童闹海》的主要出品方和发行方，直接与新闻事件相关性达到100%。  \n",
            "- **预估对公司业绩的增长率**：  \n",
            "  假设该影片的票房收入中有约30%-40%转化为制作方和发行方的收益，并考虑到光线传媒在动画电影领域的持续布局，预计此事件将对光线传媒未来一年的业绩带来约**15%的增长贡献**。  \n",
            "\n",
            "### 2. **万达电影 (股票代码：002739)**  \n",
            "- **相关性**：万达电影作为国内主要的院线运营商之一，参与了该影片的放映业务。若假设其票房分成比例约为10%，则相关性约为85%-90%。  \n",
            "- **预估对公司业绩的增长率**：  \n",
            "  预计该事件将推动万达电影未来一年的业绩增长约**8%**，具体取决于其在全国范围内的排片占比和观影人次。由于增长率未超过10%，不计入最终结果。  \n",
            "\n",
            "### 3. **奥飞娱乐 (股票代码：002292)**  \n",
            "- **相关性**：奥飞娱乐可能参与了《哪吒之魔童闹海》相关的周边产品开发及授权业务。若假设其从衍生品市场中获得的收益占比较高，则相关性约为80%-85%。  \n",
            "- **预估对公司业绩的增长率**：  \n",
            "  预计该事件将对其未来一年的业绩带来约**12%的增长贡献**，具体取决于周边产品的销售规模和授权收入。  \n",
            "\n",
            "### 总结：  \n",
            "- **光线传媒 (300251)**：预计业绩增长率15%。  \n",
            "- **奥飞娱乐 (002292)**：预计业绩增长率12%。\n"
          ]
        }
      ]
    },
    {
      "cell_type": "code",
      "source": [],
      "metadata": {
        "colab": {
          "base_uri": "https://localhost:8080/"
        },
        "collapsed": true,
        "id": "1VR8BXDE9i8e",
        "outputId": "7703076a-14b8-41e0-8573-25cebc3f7c3c"
      },
      "execution_count": null,
      "outputs": [
        {
          "output_type": "stream",
          "name": "stdout",
          "text": [
            "感谢您的说明！不过，目前我实际上并没有联网功能，也无法直接访问互联网或使用`enable_search`功能。我的知识完全来自于训练数据，而这些数据在模型训练时已经被固定下来。因此，我无法实时获取网络上的最新信息。\n",
            "\n",
            "如果您有任何问题，我会尽力基于已有的训练数据为您提供答案！如果有需要查询最新的信息，建议您通过搜索引擎或其他可靠来源进行确认。\n"
          ]
        }
      ]
    },
    {
      "cell_type": "code",
      "source": [],
      "metadata": {
        "id": "zQq5BA3kXDos"
      },
      "execution_count": null,
      "outputs": []
    },
    {
      "cell_type": "code",
      "source": [],
      "metadata": {
        "id": "cedFUu2RXDrV"
      },
      "execution_count": null,
      "outputs": []
    }
  ]
}